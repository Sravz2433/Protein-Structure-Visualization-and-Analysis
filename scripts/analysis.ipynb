{
 "cells": [
  {
   "cell_type": "code",
   "execution_count": null,
   "metadata": {},
   "outputs": [],
   "source": [
    "from Bio.PDB import PDBParser\n",
    "import pymol\n",
    "from pymol import cmd\n",
    "import matplotlib.pyplot as plt\n",
    "import os\n"
   ]
  },
  {
   "cell_type": "code",
   "execution_count": null,
   "metadata": {},
   "outputs": [],
   "source": [
    "def calculate_distance(pdb_file, chain_id, res1, res2):\n",
    "    \"\"\"Calculate distance between two residues in a protein structure.\"\"\"\n",
    "    parser = PDBParser()\n",
    "    structure = parser.get_structure(\"Protein\", pdb_file)\n",
    "    atom1 = structure[0][chain_id][res1]['CA']  # Alpha Carbon atom\n",
    "    atom2 = structure[0][chain_id][res2]['CA']\n",
    "    return atom1 - atom2\n"
   ]
  },
  {
   "cell_type": "code",
   "execution_count": null,
   "metadata": {},
   "outputs": [],
   "source": [
    "def visualize_in_pymol(pdb_file, residues_to_highlight):\n",
    "    \"\"\"Load and visualize a protein structure in PyMOL with highlighted residues.\"\"\"\n",
    "    cmd.reinitialize()  # Reset PyMOL session\n",
    "    cmd.load(pdb_file)\n",
    "    cmd.show(\"cartoon\")\n",
    "    cmd.color(\"cyan\", \"all\")\n",
    "    \n",
    "    for resi in residues_to_highlight:\n",
    "        selection = f\"resi {resi}\"\n",
    "        cmd.select(f\"highlight_{resi}\", selection)\n",
    "        cmd.show(\"sticks\", selection)\n",
    "        cmd.color(\"yellow\", selection)\n",
    "    \n",
    "    cmd.png(\"processed_results/protein_visualization.png\")\n",
    "    print(f\"Visualization saved as protein_visualization.png\")"
   ]
  },
  {
   "cell_type": "code",
   "execution_count": null,
   "metadata": {},
   "outputs": [],
   "source": [
    "def analyze_protein(file_path, chain_id, residues_of_interest):\n",
    "    \"\"\"Perform basic analysis on a protein structure.\"\"\"\n",
    "    print(f\"Analyzing protein structure: {file_path}\")\n",
    "    distances = []\n",
    "    for i in range(len(residues_of_interest) - 1):\n",
    "        distance = calculate_distance(file_path, chain_id, residues_of_interest[i], residues_of_interest[i+1])\n",
    "        distances.append(distance)\n",
    "        print(f\"Distance between residue {residues_of_interest[i]} and {residues_of_interest[i+1]}: {distance:.2f} Å\")\n",
    "    return distances"
   ]
  },
  {
   "cell_type": "code",
   "execution_count": null,
   "metadata": {},
   "outputs": [],
   "source": [
    "def visualize_distances(distances, residues):\n",
    "    \"\"\"Visualize distances between residues as a bar chart.\"\"\"\n",
    "    plt.figure(figsize=(10, 6))\n",
    "    plt.bar(range(len(distances)), distances, color='skyblue')\n",
    "    plt.xticks(range(len(distances)), [f\"{residues[i]}-{residues[i+1]}\" for i in range(len(distances))], rotation=45)\n",
    "    plt.ylabel(\"Distance (Å)\")\n",
    "    plt.xlabel(\"Residue Pairs\")\n",
    "    plt.title(\"Distances Between Residues\")\n",
    "    plt.tight_layout()\n",
    "    plt.show()"
   ]
  },
  {
   "cell_type": "code",
   "execution_count": null,
   "metadata": {},
   "outputs": [],
   "source": [
    "\n",
    "protein_dir = \"data/protein_models\"\n",
    "# Example protein: Beta-Galactosidase (1JZC)\n",
    "pdb_file = os.path.join(protein_dir, \"1JZC.pdb\")\n",
    "chain_id = \"A\"\n",
    "residues_of_interest = [200, 205, 210, 215]\n",
    "# Perform analysis\n",
    "distances = analyze_protein(pdb_file, chain_id, residues_of_interest)\n",
    "# Visualize distances\n",
    "visualize_distances(distances, residues_of_interest)\n",
    "# Visualize in PyMOL\n",
    "visualize_in_pymol(pdb_file, residues_of_interest)\n",
    "print(\"Analysis and visualization complete.\")"
   ]
  }
 ],
 "metadata": {
  "kernelspec": {
   "display_name": "Python 3",
   "language": "python",
   "name": "python3"
  },
  "language_info": {
   "name": "python",
   "version": "3.11.9"
  }
 },
 "nbformat": 4,
 "nbformat_minor": 2
}
